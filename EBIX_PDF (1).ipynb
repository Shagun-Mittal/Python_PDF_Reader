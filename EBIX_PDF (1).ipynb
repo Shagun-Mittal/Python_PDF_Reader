{
  "nbformat": 4,
  "nbformat_minor": 0,
  "metadata": {
    "colab": {
      "provenance": []
    },
    "kernelspec": {
      "name": "python3",
      "display_name": "Python 3"
    },
    "language_info": {
      "name": "python"
    }
  },
  "cells": [
    {
      "cell_type": "code",
      "execution_count": 100,
      "metadata": {
        "colab": {
          "base_uri": "https://localhost:8080/"
        },
        "id": "vtlfHDPPAJjQ",
        "outputId": "bcdfeb90-f90d-4b8d-cedd-b609daca6ea1"
      },
      "outputs": [
        {
          "output_type": "stream",
          "name": "stdout",
          "text": [
            "Requirement already satisfied: pypdf2 in /usr/local/lib/python3.10/dist-packages (3.0.1)\n"
          ]
        }
      ],
      "source": [
        "!pip install pypdf2"
      ]
    },
    {
      "cell_type": "code",
      "source": [
        "import PyPDF2\n",
        "import re"
      ],
      "metadata": {
        "id": "glepwKcOAejM"
      },
      "execution_count": 101,
      "outputs": []
    },
    {
      "cell_type": "code",
      "source": [
        "a = PyPDF2.PdfReader('/content/Ticket_sample.pdf')"
      ],
      "metadata": {
        "id": "RezbBGifAsBD"
      },
      "execution_count": 102,
      "outputs": []
    },
    {
      "cell_type": "code",
      "source": [
        "page = a.pages[0]\n",
        "print(page.extract_text())"
      ],
      "metadata": {
        "colab": {
          "base_uri": "https://localhost:8080/"
        },
        "id": "CFNN8tcZBTwh",
        "outputId": "3774e0dd-3b20-4f21-b74d-2e4fedd1e293"
      },
      "execution_count": 103,
      "outputs": [
        {
          "output_type": "stream",
          "name": "stdout",
          "text": [
            "VIA \n",
            "#87, Level 2 & 3, Infantry Road, \n",
            "The Centrum, \n",
            "Bangalore - 560001 \n",
            "Thank you for booking with Via. This is your E-ticket. \n",
            "Via wishes you a pleasant journey and hopes to serve you again in the future. \n",
            "Booked on :  04 Jan 2023 05:11 PM  \n",
            "Contact Mobile:  9999999999  \n",
            "Via reference number :  FMNXXXXXXXXXX  \n",
            "Airline PNR number :  HHH4MM \n",
            "Ticket Number :  HHH4MM \n",
            " \n",
            "Your E-Ticket as on 02 Jun 2023 02:15 PM \n",
            "To fly easy, please present the E-Ticket with a valid photo identification at the airport \n",
            "and check-in counter. The \n",
            "check-in counters are open 2 hours prior to departure and close strictly 45 minutes prior \n",
            "to departure. \n",
            "Itinerary \n",
            "From/To Flight Date Dep. Arr. \n",
            "Delhi(DEL, Terminal 2) \n",
            "- \n",
            "Lucknow(LKO, \n",
            "Terminal 2) IndiGo 6E-0000  06 Jan 2023  08:30 AM 09:45 AM \n",
            "     \n",
            " \n",
            "Passenger Charge Description  Amount \n",
            "ABCD / KUMAR XYZ MR [Adult]  Air Fare 4,400.00 INR  \n",
            " Taxes and Fees  1,153.00 INR  \n",
            " Fuel Surcharge(YQ)  0.00 INR \n",
            " CUTE Charges(YR)  50.00 INR \n",
            " Discount: 0.00 INR  \n",
            " Supplier GST: 234.80 INR  \n",
            " Total 5,837.80 INR  \n",
            "Ancillary Information \n",
            "Pax No. Segment Seat Info Meal Info \n",
            "1 DEL-LKO 29Z Veg Trio Sandwich \n",
            " \n",
            "Important Information \n",
            " For any Queries, feel free to contact our 24x7 Customer Support service (1800-103-4499) or mail us at \n",
            "corporate.bookings@via.com. \n",
            " All Guests, including children and infants, must present valid identification at check-in. \n",
            " Carriage and other services provided by the carrier are subject to conditions of carriage, which are hereby incorporated by \n",
            "reference. These conditions may be obtained from the issuing carrier. \n",
            " In case of cancellations less than 6 hours before departure please cancel with the airlines directly. We are not responsible \n",
            "for any losses if the request is received less than 6 hours before departure. \n",
            " Please contact airlines for Terminal Queries. \n",
            " After booking its mandatory for all passengers to do Web check-in their PNR with pre-selected seats to avoid the long \n",
            "queue at the airport. \n",
            " Check-in begins 2 hours prior to the flight departure time. \n"
          ]
        }
      ]
    },
    {
      "cell_type": "code",
      "source": [
        "!pip install regex"
      ],
      "metadata": {
        "colab": {
          "base_uri": "https://localhost:8080/"
        },
        "id": "QnXVy18hHTSU",
        "outputId": "96eddc7e-5f80-4628-9951-6f90b5866dde"
      },
      "execution_count": 104,
      "outputs": [
        {
          "output_type": "stream",
          "name": "stdout",
          "text": [
            "Requirement already satisfied: regex in /usr/local/lib/python3.10/dist-packages (2022.10.31)\n"
          ]
        }
      ]
    },
    {
      "cell_type": "code",
      "source": [
        "import regex as reg"
      ],
      "metadata": {
        "id": "dQjX-vPjHV2E"
      },
      "execution_count": 105,
      "outputs": []
    },
    {
      "cell_type": "code",
      "source": [
        "import re"
      ],
      "metadata": {
        "id": "v9Yw4kBcH5Yh"
      },
      "execution_count": 106,
      "outputs": []
    },
    {
      "cell_type": "code",
      "source": [
        "import PyPDF2\n",
        "import re\n",
        "\n",
        "def extract_information(filename):\n",
        "    reference_regex = r\"FMN.{10}\"\n",
        "    pnr_regex = r\"HH.{4}\"\n",
        "\n",
        "    reference_number = None\n",
        "    pnr_number = None\n",
        "    found = []\n",
        "    z = 1\n",
        "\n",
        "    with open(filename, \"rb\") as file:\n",
        "        reader = PyPDF2.PdfReader(file)\n",
        "        num_pages = len(reader.pages)\n",
        "\n",
        "        for page_number in range(num_pages):\n",
        "            page = reader.pages[page_number]\n",
        "            text = page.extract_text()\n",
        "\n",
        "            # Extract Reference number\n",
        "            reference_match = re.search(reference_regex, text)\n",
        "            if reference_match:\n",
        "                reference_number =reference_match.group(0)\n",
        "\n",
        "            # Extract PNR number\n",
        "            pnr_match = re.search(pnr_regex, text)\n",
        "            if pnr_match:\n",
        "                pnr_number = pnr_match.group(0)\n",
        "\n",
        "            # If both numbers are found, stop searching\n",
        "            if reference_number and pnr_number and [z-1,reference_number,pnr_number] not in found:\n",
        "                found.append([z,reference_number,pnr_number])\n",
        "                z+=1\n",
        "\n",
        "    return found\n",
        "\n",
        "\n",
        "pdf_filename = \"/content/Ticket_example.pdf\"\n",
        "found = extract_information(pdf_filename)\n",
        "print(found)"
      ],
      "metadata": {
        "colab": {
          "base_uri": "https://localhost:8080/"
        },
        "id": "UyR9FLSJKy5r",
        "outputId": "5ef01781-7a0f-478b-ee9a-ccd99d5b73ba"
      },
      "execution_count": 107,
      "outputs": [
        {
          "output_type": "stream",
          "name": "stdout",
          "text": [
            "[[1, 'FMNXXXXXXXXXX', 'HHH4MM'], [2, 'FMNXXXXXXXXXY', 'HHH5MM'], [3, 'FMNXXXXXXXXXZ', 'HHH3MM'], [4, 'FMNXXXXXXXXYY', 'HHH1MM'], [5, 'FMNXXXXXXXXZZ', 'HHH0MM'], [6, 'FMNXXXXXXXAAA', 'HHH7MM'], [7, 'FMNXXXXXXXXAB', 'HHH8MM'], [8, 'FMNXXXXXXXXCC', 'HHH0MM'], [9, 'FMNXXXXXXXCCC', 'HHH4MN'], [10, 'FMNXXXXXXXASD', 'HHH1MM'], [11, 'FMNXXXXXXQQQQ', 'HHH4AB'], [12, 'FMNXXXXXXXXQE', 'HHH4BG'], [13, 'FMNXXEXXXXXXX', 'HHH4ME'], [14, 'FMNXXXXXXUSDC', 'HHH4MS'], [15, 'FMNIIXXXXXXXX', 'HHH4OO'], [16, 'FMNXXXXXXXXTT', 'HHH4MT'], [17, 'FMNXXXXXXXXFI', 'HHH4FI'], [18, 'FMNXXXXXXWERE', 'HHH4EE'], [19, 'FMNXXXXXXXXPO', 'HHH4PO'], [20, 'FMNXXXXXPPXXX', 'HHH4UU'], [21, 'FMNXXXXVFXXXX', 'HHH4VV'], [22, 'FMNXXXXSVTXXX', 'HHH4SS'], [23, 'FMNXXXXXXQCRT', 'HHH4JJ'], [24, 'FMNXXXTTTXXXX', 'HHH4MT'], [25, 'FMNXXXXXOIUYT', 'HHH4MO'], [26, 'FMNXXXXXXXXSY', 'HHH4SY'], [27, 'FMNXXXXXGHTUD', 'HHH4GT'], [28, 'FMNXXXXXXXLLL', 'HHH4LL'], [29, 'FMNXXXXXXRXXX', 'HHH4MR'], [30, 'FMNXXXX KJUOP', 'HHH4KL']]\n"
          ]
        }
      ]
    },
    {
      "cell_type": "code",
      "source": [
        "import csv\n",
        "\n",
        "# Define the fields that will be used as column headers in the CSV file\n",
        "fields = ['Sr#','Via reference number','Airline PNR number']\n",
        "with open('TicketInfo.csv', 'w') as f:\n",
        "\n",
        "    # Create a CSV writer object that will write to the file 'f'\n",
        "    csv_writer = csv.writer(f)\n",
        "\n",
        "    # Write the field names (column headers) to the first row of the CSV file\n",
        "    csv_writer.writerow(fields)\n",
        "\n",
        "    # Write all of the rows of data to the CSV file\n",
        "    csv_writer.writerows(found)"
      ],
      "metadata": {
        "id": "JyHyCdiRzacG"
      },
      "execution_count": 108,
      "outputs": []
    },
    {
      "cell_type": "code",
      "source": [
        "\n",
        "import pandas as pd\n",
        "\n",
        "\n",
        "# Reading the csv file\n",
        "df_new = pd.read_csv('/content/TicketInfo.csv')\n",
        "\n",
        "# saving xlsx file\n",
        "tickets = pd.ExcelWriter('TicketInfoTable.xlsx')\n",
        "df_new.to_excel(tickets, index=False)\n",
        "\n",
        "tickets.save()"
      ],
      "metadata": {
        "colab": {
          "base_uri": "https://localhost:8080/"
        },
        "id": "oGuUs7cpVbvJ",
        "outputId": "dd688dda-234b-4249-fa5d-4049d465b59d"
      },
      "execution_count": 109,
      "outputs": [
        {
          "output_type": "stream",
          "name": "stderr",
          "text": [
            "<ipython-input-109-2e87292a24c1>:11: FutureWarning: save is not part of the public API, usage can give unexpected results and will be removed in a future version\n",
            "  tickets.save()\n"
          ]
        }
      ]
    },
    {
      "cell_type": "code",
      "source": [
        "def generate_excel_from_pdf(filename):\n",
        "    found = extract_information(pdf_filename)\n",
        "    fields = ['Sr#','Via reference number','Airline PNR number']\n",
        "    with open('TicketInfo.csv', 'w') as f:\n",
        "\n",
        "    # Create a CSV writer object that will write to the file 'f'\n",
        "        csv_writer = csv.writer(f)\n",
        "\n",
        "    # Write the field names (column headers) to the first row of the CSV file\n",
        "        csv_writer.writerow(fields)\n",
        "\n",
        "    # Write all of the rows of data to the CSV file\n",
        "        csv_writer.writerows(found)\n",
        "    df_new = pd.read_csv('/content/TicketInfo.csv')\n",
        "\n",
        "# saving xlsx file\n",
        "    tickets = pd.ExcelWriter('TicketInfoTable.xlsx')\n",
        "    df_new.to_excel(tickets, index=False)\n",
        "    return open(TicketInfoTable.xlsx, mode='r')\n",
        "\n",
        "\n"
      ],
      "metadata": {
        "id": "PEjaLTjr0KRl"
      },
      "execution_count": 110,
      "outputs": []
    },
    {
      "cell_type": "code",
      "source": [
        "!pip install Django"
      ],
      "metadata": {
        "colab": {
          "base_uri": "https://localhost:8080/"
        },
        "id": "G3kn64PNp0mB",
        "outputId": "cec91d10-9f72-475f-a5aa-7657b4ded310"
      },
      "execution_count": 111,
      "outputs": [
        {
          "output_type": "stream",
          "name": "stdout",
          "text": [
            "Requirement already satisfied: Django in /usr/local/lib/python3.10/dist-packages (4.2.3)\n",
            "Requirement already satisfied: asgiref<4,>=3.6.0 in /usr/local/lib/python3.10/dist-packages (from Django) (3.7.2)\n",
            "Requirement already satisfied: sqlparse>=0.3.1 in /usr/local/lib/python3.10/dist-packages (from Django) (0.4.4)\n",
            "Requirement already satisfied: typing-extensions>=4 in /usr/local/lib/python3.10/dist-packages (from asgiref<4,>=3.6.0->Django) (4.7.1)\n"
          ]
        }
      ]
    },
    {
      "cell_type": "code",
      "source": [
        "!pip install colorama"
      ],
      "metadata": {
        "colab": {
          "base_uri": "https://localhost:8080/"
        },
        "id": "S8nQDR9qp0i8",
        "outputId": "1a39dc8b-456c-4524-d489-4c3d1dd7d5df"
      },
      "execution_count": 112,
      "outputs": [
        {
          "output_type": "stream",
          "name": "stdout",
          "text": [
            "Requirement already satisfied: colorama in /usr/local/lib/python3.10/dist-packages (0.4.6)\n"
          ]
        }
      ]
    },
    {
      "cell_type": "code",
      "source": [
        "!pip install pdfminer.six"
      ],
      "metadata": {
        "colab": {
          "base_uri": "https://localhost:8080/"
        },
        "id": "YgpwCh0Ip0QK",
        "outputId": "a4ac3011-bdf5-4c9b-e312-3bdbace628b2"
      },
      "execution_count": 113,
      "outputs": [
        {
          "output_type": "stream",
          "name": "stdout",
          "text": [
            "Requirement already satisfied: pdfminer.six in /usr/local/lib/python3.10/dist-packages (20221105)\n",
            "Requirement already satisfied: charset-normalizer>=2.0.0 in /usr/local/lib/python3.10/dist-packages (from pdfminer.six) (2.0.12)\n",
            "Requirement already satisfied: cryptography>=36.0.0 in /usr/local/lib/python3.10/dist-packages (from pdfminer.six) (41.0.2)\n",
            "Requirement already satisfied: cffi>=1.12 in /usr/local/lib/python3.10/dist-packages (from cryptography>=36.0.0->pdfminer.six) (1.15.1)\n",
            "Requirement already satisfied: pycparser in /usr/local/lib/python3.10/dist-packages (from cffi>=1.12->cryptography>=36.0.0->pdfminer.six) (2.21)\n"
          ]
        }
      ]
    },
    {
      "cell_type": "code",
      "source": [
        "# Setting DEBUG to True for development purposes\n",
        "DEBUG = True\n",
        "\n",
        "# Setting ALLOWED_HOSTS for local development (localhost)\n",
        "ALLOWED_HOSTS = ['localhost', '172.28.0.12']"
      ],
      "metadata": {
        "id": "LPIS0XYivVF4"
      },
      "execution_count": 114,
      "outputs": []
    },
    {
      "cell_type": "code",
      "source": [
        "#Installing Django and pdfminer.six\n",
        "!pip install django\n",
        "!pip install pdfminer.six\n",
        "\n",
        "# Installing ngrok\n",
        "!pip install pyngrok\n",
        "\n",
        "#  Mounting Google Drive\n",
        "from google.colab import drive\n",
        "drive.mount('/content/drive')\n",
        "\n",
        "# Creating a new Django project and app\n",
        "!django-admin startproject pdf_to_excel_project\n",
        "%cd pdf_to_excel_project\n",
        "!django-admin startapp pdf_to_excel_app\n",
        "\n"
      ],
      "metadata": {
        "colab": {
          "base_uri": "https://localhost:8080/"
        },
        "id": "nvijTARrwouK",
        "outputId": "84ba794c-be75-41f8-fbdf-cd9aacd42c7e"
      },
      "execution_count": 115,
      "outputs": [
        {
          "output_type": "stream",
          "name": "stdout",
          "text": [
            "Requirement already satisfied: django in /usr/local/lib/python3.10/dist-packages (4.2.3)\n",
            "Requirement already satisfied: asgiref<4,>=3.6.0 in /usr/local/lib/python3.10/dist-packages (from django) (3.7.2)\n",
            "Requirement already satisfied: sqlparse>=0.3.1 in /usr/local/lib/python3.10/dist-packages (from django) (0.4.4)\n",
            "Requirement already satisfied: typing-extensions>=4 in /usr/local/lib/python3.10/dist-packages (from asgiref<4,>=3.6.0->django) (4.7.1)\n",
            "Requirement already satisfied: pdfminer.six in /usr/local/lib/python3.10/dist-packages (20221105)\n",
            "Requirement already satisfied: charset-normalizer>=2.0.0 in /usr/local/lib/python3.10/dist-packages (from pdfminer.six) (2.0.12)\n",
            "Requirement already satisfied: cryptography>=36.0.0 in /usr/local/lib/python3.10/dist-packages (from pdfminer.six) (41.0.2)\n",
            "Requirement already satisfied: cffi>=1.12 in /usr/local/lib/python3.10/dist-packages (from cryptography>=36.0.0->pdfminer.six) (1.15.1)\n",
            "Requirement already satisfied: pycparser in /usr/local/lib/python3.10/dist-packages (from cffi>=1.12->cryptography>=36.0.0->pdfminer.six) (2.21)\n",
            "Requirement already satisfied: pyngrok in /usr/local/lib/python3.10/dist-packages (6.0.0)\n",
            "Requirement already satisfied: PyYAML in /usr/local/lib/python3.10/dist-packages (from pyngrok) (6.0)\n",
            "Drive already mounted at /content/drive; to attempt to forcibly remount, call drive.mount(\"/content/drive\", force_remount=True).\n",
            "CommandError: '/content/pdf_to_table_project/pdf_to_table_project2/pdf_to_excel_project/pdf_to_excel_project/pdf_to_excel_project/pdf_to_excel_project' already exists\n",
            "/content/pdf_to_table_project/pdf_to_table_project2/pdf_to_excel_project/pdf_to_excel_project/pdf_to_excel_project/pdf_to_excel_project\n"
          ]
        }
      ]
    },
    {
      "cell_type": "code",
      "source": [
        "!mkdir pdf_to_excel_app/templates"
      ],
      "metadata": {
        "id": "3Mi6PSzyxnZW"
      },
      "execution_count": 116,
      "outputs": []
    },
    {
      "cell_type": "code",
      "source": [
        "#  Defineing the model for the uploaded PDF\n",
        "%%writefile pdf_to_excel_app/templates/result.html\n",
        "<!DOCTYPE html>\n",
        "<html>\n",
        "<head>\n",
        "    <title>Excel Result</title>\n",
        "</head>\n",
        "<body>\n",
        "    <h1>Generated Excel File</h1>\n",
        "    <p>Click the link below to download the generated Excel file:</p>\n",
        "    <a href=\"{% static excel_file_name %}\" download>Download Excel</a>\n",
        "</body>\n",
        "</html>\n",
        "\n",
        "# Step 10: Run the Django development server with ngrok\n",
        "from django.core.management import call_command\n",
        "from pyngrok import ngrok\n",
        "\n",
        "# Start the Django development server in the background\n",
        "django_process = ngrok.kill()  # To ensure ngrok is not already running\n",
        "django_process = ngrok.get_process('8000')\n",
        "if django_process is None:\n",
        "    django_process = ngrok.get_process('8000')\n",
        "    if django_process is None:\n",
        "        django_process = ngrok.Popen(['python', 'manage.py', 'runserver', 'localhost:8000'])\n",
        "%%writefile pdf_to_excel_app/models.py\n",
        "from django.db import models\n",
        "\n",
        "class UploadedPDF(models.Model):\n",
        "    file = models.FileField(upload_to='pdfs/')\n",
        "\n",
        "# Step 6: Configure settings for file handling and set DEBUG to True\n",
        "%%writefile pdf_to_excel_project/settings.py\n",
        "import os\n",
        "\n",
        "BASE_DIR = os.path.dirname(os.path.dirname(os.path.abspath(__file__)))\n",
        "\n",
        "# Add the following lines at the end of settings.py\n",
        "MEDIA_URL = '/media/'\n",
        "MEDIA_ROOT = os.path.join(BASE_DIR, 'media')\n",
        "\n",
        "# Set DEBUG to True for development purposes\n",
        "DEBUG = True\n",
        "\n",
        "# Set ALLOWED_HOSTS to allow all hosts (for testing with ngrok)\n",
        "ALLOWED_HOSTS = ['*']\n",
        "\n",
        "# Step 7: Create URLs for file upload and result display\n",
        "%%writefile pdf_to_excel_app/urls.py\n",
        "from django.urls import path\n",
        "from . import views\n",
        "\n",
        "urlpatterns = [\n",
        "    path('', views.upload_pdf, name='upload_pdf'),\n",
        "]\n",
        "\n",
        "# Step 8: Create views for file upload and result display\n",
        "%%writefile pdf_to_excel_app/views.py\n",
        "import os\n",
        "from django.shortcuts import render\n",
        "from .models import UploadedPDF\n",
        "\n",
        "def upload_pdf(request):\n",
        "    if request.method == 'POST':\n",
        "        pdf_file = request.FILES.get('pdf_file')\n",
        "        uploaded_pdf = UploadedPDF.objects.create(file=pdf_file)\n",
        "\n",
        "        # Assuming you have a function called generate_excel_from_pdf\n",
        "        excel_file_path = generate_excel_from_pdf(uploaded_pdf.file.path)\n",
        "        file_name = os.path.basename(excel_file_path)\n",
        "\n",
        "        return render(request, 'result.html', {'TicketInfoTable.xlsx': file_name})\n",
        "\n",
        "    return render(request, 'upload_pdf.html')\n",
        "\n",
        "# Step 9: Create templates for file upload and result display\n",
        "!mkdir pdf_to_excel_app/templates\n",
        "%%writefile pdf_to_excel_app/templates/upload_pdf.html\n",
        "<!DOCTYPE html>\n",
        "<html>\n",
        "<head>\n",
        "    <title>Upload PDF</title>\n",
        "</head>\n",
        "<body>\n",
        "    <h1>Upload PDF File</h1>\n",
        "    <form method=\"post\" enctype=\"multipart/form-data\">\n",
        "        {% csrf_token %}\n",
        "        <input type=\"file\" name=\"pdf_file\" accept=\".pdf\" required>\n",
        "        <button type=\"submit\">Upload</button>\n",
        "    </form>\n",
        "</body>\n",
        "</html>"
      ],
      "metadata": {
        "colab": {
          "base_uri": "https://localhost:8080/"
        },
        "id": "YW3gl4DuxGfm",
        "outputId": "8e3cd42c-a8af-4a37-d8c0-251038ed4e9b"
      },
      "execution_count": 117,
      "outputs": [
        {
          "output_type": "stream",
          "name": "stdout",
          "text": [
            "Writing pdf_to_excel_app/templates/result.html\n"
          ]
        }
      ]
    },
    {
      "cell_type": "code",
      "source": [
        "!mkdir -p /root/.config/ngrok  # Create the XDG directory if it doesn't exist\n",
        "!mv /root/.ngrok2/ngrok.yml /root/.config/ngrok/ngrok.yml"
      ],
      "metadata": {
        "colab": {
          "base_uri": "https://localhost:8080/"
        },
        "id": "glAfPAL41q_9",
        "outputId": "ece81ad5-d50d-4872-b03a-64e76a2a18d3"
      },
      "execution_count": 118,
      "outputs": [
        {
          "output_type": "stream",
          "name": "stdout",
          "text": [
            "mv: cannot stat '/root/.ngrok2/ngrok.yml': No such file or directory\n"
          ]
        }
      ]
    },
    {
      "cell_type": "code",
      "source": [
        "from django.core.management import call_command\n",
        "from pyngrok import ngrok\n",
        "\n",
        "\n",
        "django_process = ngrok.kill()\n",
        "ngrok_tunnel = ngrok.connect(8000)\n",
        "\n",
        "# Print the ngrok URL in the output\n",
        "print(\"Django application is accessible at:\")\n",
        "print(ngrok_tunnel.public_url)"
      ],
      "metadata": {
        "colab": {
          "base_uri": "https://localhost:8080/"
        },
        "id": "PeyWbKLB1JXr",
        "outputId": "81f16e95-b541-43be-bd1b-9a1b180fa9d5"
      },
      "execution_count": 119,
      "outputs": [
        {
          "output_type": "stream",
          "name": "stderr",
          "text": [
            "WARNING:pyngrok.process.ngrok:t=2023-07-18T12:00:36+0000 lvl=warn msg=\"ngrok config file found at both XDG and legacy locations, using XDG location\" xdg_path=/root/.config/ngrok/ngrok.yml legacy_path=/root/.ngrok2/ngrok.yml\n"
          ]
        },
        {
          "output_type": "stream",
          "name": "stdout",
          "text": [
            "Django application is accessible at:\n",
            "https://2d2b-34-74-198-127.ngrok.io\n"
          ]
        }
      ]
    },
    {
      "cell_type": "code",
      "source": [
        "!mkdir -p /root/.config/ngrok  # Create the XDG directory if it doesn't exist\n",
        "!mv /root/.ngrok2/ngrok.yml /root/.config/ngrok/ngrok.yml\n"
      ],
      "metadata": {
        "id": "1bLaVYV12I2T"
      },
      "execution_count": 120,
      "outputs": []
    }
  ]
}