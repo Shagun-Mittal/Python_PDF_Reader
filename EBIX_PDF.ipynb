{
  "nbformat": 4,
  "nbformat_minor": 0,
  "metadata": {
    "colab": {
      "provenance": []
    },
    "kernelspec": {
      "name": "python3",
      "display_name": "Python 3"
    },
    "language_info": {
      "name": "python"
    }
  },
  "cells": [
    {
      "cell_type": "code",
      "execution_count": 10,
      "metadata": {
        "colab": {
          "base_uri": "https://localhost:8080/"
        },
        "id": "vtlfHDPPAJjQ",
        "outputId": "052e3d63-dc2c-499f-e0ca-b4e9f5ca4f78"
      },
      "outputs": [
        {
          "output_type": "stream",
          "name": "stdout",
          "text": [
            "Requirement already satisfied: pypdf2 in /usr/local/lib/python3.10/dist-packages (3.0.1)\n"
          ]
        }
      ],
      "source": [
        "!pip install pypdf2"
      ]
    },
    {
      "cell_type": "code",
      "source": [
        "import PyPDF2\n",
        "import re"
      ],
      "metadata": {
        "id": "glepwKcOAejM"
      },
      "execution_count": 11,
      "outputs": []
    },
    {
      "cell_type": "code",
      "source": [
        "a = PyPDF2.PdfReader('/content/Ticket_sample.pdf')"
      ],
      "metadata": {
        "id": "RezbBGifAsBD"
      },
      "execution_count": 56,
      "outputs": []
    },
    {
      "cell_type": "code",
      "source": [
        "page = a.pages[0]\n",
        "print(page.extract_text())"
      ],
      "metadata": {
        "colab": {
          "base_uri": "https://localhost:8080/"
        },
        "id": "CFNN8tcZBTwh",
        "outputId": "da808a0c-4ec0-46b8-f30f-ef8a5a1aa6fb"
      },
      "execution_count": 57,
      "outputs": [
        {
          "output_type": "stream",
          "name": "stdout",
          "text": [
            "VIA \n",
            "#87, Level 2 & 3, Infantry Road, \n",
            "The Centrum, \n",
            "Bangalore - 560001 \n",
            "Thank you for booking with Via. This is your E-ticket. \n",
            "Via wishes you a pleasant journey and hopes to serve you again in the future. \n",
            "Booked on :  04 Jan 2023 05:11 PM  \n",
            "Contact Mobile:  9999999999  \n",
            "Via reference number :  FMNXXXXXXXXXX  \n",
            "Airline PNR number :  HHH4MM \n",
            "Ticket Number :  HHH4MM \n",
            " \n",
            "Your E-Ticket as on 02 Jun 2023 02:15 PM \n",
            "To fly easy, please present the E-Ticket with a valid photo identification at the airport \n",
            "and check-in counter. The \n",
            "check-in counters are open 2 hours prior to departure and close strictly 45 minutes prior \n",
            "to departure. \n",
            "Itinerary \n",
            "From/To Flight Date Dep. Arr. \n",
            "Delhi(DEL, Terminal 2) \n",
            "- \n",
            "Lucknow(LKO, \n",
            "Terminal 2) IndiGo 6E-0000  06 Jan 2023  08:30 AM 09:45 AM \n",
            "     \n",
            " \n",
            "Passenger Charge Description  Amount \n",
            "ABCD / KUMAR XYZ MR [Adult]  Air Fare 4,400.00 INR  \n",
            " Taxes and Fees  1,153.00 INR  \n",
            " Fuel Surcharge(YQ)  0.00 INR \n",
            " CUTE Charges(YR)  50.00 INR \n",
            " Discount: 0.00 INR  \n",
            " Supplier GST: 234.80 INR  \n",
            " Total 5,837.80 INR  \n",
            "Ancillary Information \n",
            "Pax No. Segment Seat Info Meal Info \n",
            "1 DEL-LKO 29Z Veg Trio Sandwich \n",
            " \n",
            "Important Information \n",
            " For any Queries, feel free to contact our 24x7 Customer Support service (1800-103-4499) or mail us at \n",
            "corporate.bookings@via.com. \n",
            " All Guests, including children and infants, must present valid identification at check-in. \n",
            " Carriage and other services provided by the carrier are subject to conditions of carriage, which are hereby incorporated by \n",
            "reference. These conditions may be obtained from the issuing carrier. \n",
            " In case of cancellations less than 6 hours before departure please cancel with the airlines directly. We are not responsible \n",
            "for any losses if the request is received less than 6 hours before departure. \n",
            " Please contact airlines for Terminal Queries. \n",
            " After booking its mandatory for all passengers to do Web check-in their PNR with pre-selected seats to avoid the long \n",
            "queue at the airport. \n",
            " Check-in begins 2 hours prior to the flight departure time. \n"
          ]
        }
      ]
    },
    {
      "cell_type": "code",
      "source": [
        "!pip install regex"
      ],
      "metadata": {
        "colab": {
          "base_uri": "https://localhost:8080/"
        },
        "id": "QnXVy18hHTSU",
        "outputId": "89fa27ba-6bd6-4b3b-a8f7-41986743ade3"
      },
      "execution_count": 58,
      "outputs": [
        {
          "output_type": "stream",
          "name": "stdout",
          "text": [
            "Requirement already satisfied: regex in /usr/local/lib/python3.10/dist-packages (2022.10.31)\n"
          ]
        }
      ]
    },
    {
      "cell_type": "code",
      "source": [
        "import regex as reg"
      ],
      "metadata": {
        "id": "dQjX-vPjHV2E"
      },
      "execution_count": 59,
      "outputs": []
    },
    {
      "cell_type": "code",
      "source": [
        "import re"
      ],
      "metadata": {
        "id": "v9Yw4kBcH5Yh"
      },
      "execution_count": 60,
      "outputs": []
    },
    {
      "cell_type": "code",
      "source": [
        "import PyPDF2\n",
        "import re\n",
        "\n",
        "def extract_information(filename):\n",
        "    reference_regex = r\"FMN.{10}\"\n",
        "    pnr_regex = r\"HH.{4}\"\n",
        "\n",
        "    reference_number = None\n",
        "    pnr_number = None\n",
        "    found = []\n",
        "    z = 1\n",
        "\n",
        "    with open(filename, \"rb\") as file:\n",
        "        reader = PyPDF2.PdfReader(file)\n",
        "        num_pages = len(reader.pages)\n",
        "\n",
        "        for page_number in range(num_pages):\n",
        "            page = reader.pages[page_number]\n",
        "            text = page.extract_text()\n",
        "\n",
        "            # Extract Reference number\n",
        "            reference_match = re.search(reference_regex, text)\n",
        "            if reference_match:\n",
        "                reference_number =reference_match.group(0)\n",
        "\n",
        "            # Extract PNR number\n",
        "            pnr_match = re.search(pnr_regex, text)\n",
        "            if pnr_match:\n",
        "                pnr_number = pnr_match.group(0)\n",
        "\n",
        "            # If both numbers are found, stop searching\n",
        "            if reference_number and pnr_number and [z-1,reference_number,pnr_number] not in found:\n",
        "                found.append([z,reference_number,pnr_number])\n",
        "                z+=1\n",
        "\n",
        "    return found\n",
        "\n",
        "\n",
        "pdf_filename = \"/content/Ticket_example.pdf\"\n",
        "found = extract_information(pdf_filename)\n",
        "print(found)"
      ],
      "metadata": {
        "colab": {
          "base_uri": "https://localhost:8080/"
        },
        "id": "UyR9FLSJKy5r",
        "outputId": "d7373cda-2a57-4cda-c2eb-600476602bae"
      },
      "execution_count": 87,
      "outputs": [
        {
          "output_type": "stream",
          "name": "stdout",
          "text": [
            "[[1, 'FMNXXXXXXXXXX', 'HHH4MM'], [2, 'FMNXXXXXXXXXY', 'HHH5MM'], [3, 'FMNXXXXXXXXXZ', 'HHH3MM'], [4, 'FMNXXXXXXXXYY', 'HHH1MM'], [5, 'FMNXXXXXXXXZZ', 'HHH0MM'], [6, 'FMNXXXXXXXAAA', 'HHH7MM'], [7, 'FMNXXXXXXXXAB', 'HHH8MM'], [8, 'FMNXXXXXXXXCC', 'HHH0MM'], [9, 'FMNXXXXXXXCCC', 'HHH4MN'], [10, 'FMNXXXXXXXASD', 'HHH1MM'], [11, 'FMNXXXXXXQQQQ', 'HHH4AB'], [12, 'FMNXXXXXXXXQE', 'HHH4BG'], [13, 'FMNXXEXXXXXXX', 'HHH4ME'], [14, 'FMNXXXXXXUSDC', 'HHH4MS'], [15, 'FMNIIXXXXXXXX', 'HHH4OO'], [16, 'FMNXXXXXXXXTT', 'HHH4MT'], [17, 'FMNXXXXXXXXFI', 'HHH4FI'], [18, 'FMNXXXXXXWERE', 'HHH4EE'], [19, 'FMNXXXXXXXXPO', 'HHH4PO'], [20, 'FMNXXXXXPPXXX', 'HHH4UU'], [21, 'FMNXXXXVFXXXX', 'HHH4VV'], [22, 'FMNXXXXSVTXXX', 'HHH4SS'], [23, 'FMNXXXXXXQCRT', 'HHH4JJ'], [24, 'FMNXXXTTTXXXX', 'HHH4MT'], [25, 'FMNXXXXXOIUYT', 'HHH4MO'], [26, 'FMNXXXXXXXXSY', 'HHH4SY'], [27, 'FMNXXXXXGHTUD', 'HHH4GT'], [28, 'FMNXXXXXXXLLL', 'HHH4LL'], [29, 'FMNXXXXXXRXXX', 'HHH4MR'], [30, 'FMNXXXX KJUOP', 'HHH4KL']]\n"
          ]
        }
      ]
    },
    {
      "cell_type": "code",
      "source": [
        "import csv\n",
        "\n",
        "# Define the fields that will be used as column headers in the CSV file\n",
        "fields = ['Sr#','Via reference number','Airline PNR number']\n",
        "with open('TicketInfo.csv', 'w') as f:\n",
        "\n",
        "    # Create a CSV writer object that will write to the file 'f'\n",
        "    csv_writer = csv.writer(f)\n",
        "\n",
        "    # Write the field names (column headers) to the first row of the CSV file\n",
        "    csv_writer.writerow(fields)\n",
        "\n",
        "    # Write all of the rows of data to the CSV file\n",
        "    csv_writer.writerows(found)"
      ],
      "metadata": {
        "id": "tRNiEtz1RgVp"
      },
      "execution_count": 85,
      "outputs": []
    },
    {
      "cell_type": "code",
      "source": [
        "\n",
        "import pandas as pd\n",
        "\n",
        "\n",
        "# Reading the csv file\n",
        "df_new = pd.read_csv('/content/TicketInfo.csv')\n",
        "\n",
        "# saving xlsx file\n",
        "tickets = pd.ExcelWriter('TicketInfoTable.xlsx')\n",
        "df_new.to_excel(tickets, index=False)\n",
        "\n",
        "tickets.save()"
      ],
      "metadata": {
        "colab": {
          "base_uri": "https://localhost:8080/"
        },
        "id": "oGuUs7cpVbvJ",
        "outputId": "52e403b7-dc55-4b97-b2a9-da2942ec961e"
      },
      "execution_count": 86,
      "outputs": [
        {
          "output_type": "stream",
          "name": "stderr",
          "text": [
            "<ipython-input-86-89b9a26cc1aa>:11: FutureWarning: save is not part of the public API, usage can give unexpected results and will be removed in a future version\n",
            "  tickets.save()\n"
          ]
        }
      ]
    }
  ]
}